{
 "cells": [
  {
   "cell_type": "code",
   "execution_count": 1,
   "id": "edc6e2d1",
   "metadata": {},
   "outputs": [],
   "source": [
    "# 사용방법 - 복사하여 주석만 제거하여 사용\n",
    "import sys\n",
    "from pathlib import Path\n",
    "\n",
    "# 현재 노트북(.ipynb)이 src/ 안에 있으니 상위 폴더(프로젝트 루트)를 추가\n",
    "BASE_DIR    = Path().resolve().parent.parent    # Notebook이 src/ 안이라면 .parent\n",
    "config_path = BASE_DIR / 'config' / 'data_paths.yaml'\n",
    "sys.path.insert(0, str(BASE_DIR))\n",
    "\n",
    "\n",
    "# 이제 바로 import\n",
    "from scripts.data_loader import load_data"
   ]
  },
  {
   "cell_type": "code",
   "execution_count": 3,
   "id": "62024255",
   "metadata": {},
   "outputs": [],
   "source": [
    "df_merged = load_data('Merged_Data_with_Season', section='processed')\n",
    "df = df_merged.dropna(subset=['pm10'])"
   ]
  },
  {
   "cell_type": "code",
   "execution_count": null,
   "id": "995a1d8d",
   "metadata": {},
   "outputs": [
    {
     "name": "stderr",
     "output_type": "stream",
     "text": [
      "C:\\Users\\shinp\\AppData\\Local\\Temp\\ipykernel_18504\\2990285383.py:11: SettingWithCopyWarning: \n",
      "A value is trying to be set on a copy of a slice from a DataFrame.\n",
      "Try using .loc[row_indexer,col_indexer] = value instead\n",
      "\n",
      "See the caveats in the documentation: https://pandas.pydata.org/pandas-docs/stable/user_guide/indexing.html#returning-a-view-versus-a-copy\n",
      "  df['year_month'] = pd.to_datetime(df['year_month'], format=\"%Y-%m\")\n",
      "C:\\Users\\shinp\\AppData\\Local\\Temp\\ipykernel_18504\\2990285383.py:12: SettingWithCopyWarning: \n",
      "A value is trying to be set on a copy of a slice from a DataFrame.\n",
      "Try using .loc[row_indexer,col_indexer] = value instead\n",
      "\n",
      "See the caveats in the documentation: https://pandas.pydata.org/pandas-docs/stable/user_guide/indexing.html#returning-a-view-versus-a-copy\n",
      "  df['year'] = df['year_month'].dt.year\n",
      "C:\\Users\\shinp\\AppData\\Local\\Temp\\ipykernel_18504\\2990285383.py:13: SettingWithCopyWarning: \n",
      "A value is trying to be set on a copy of a slice from a DataFrame.\n",
      "Try using .loc[row_indexer,col_indexer] = value instead\n",
      "\n",
      "See the caveats in the documentation: https://pandas.pydata.org/pandas-docs/stable/user_guide/indexing.html#returning-a-view-versus-a-copy\n",
      "  df['month'] = df['year_month'].dt.month\n"
     ]
    },
    {
     "name": "stdout",
     "output_type": "stream",
     "text": [
      "(154316, 7) (154316,)\n",
      "(38580, 7) (38580,)\n",
      "(48224, 7) (48224,)\n"
     ]
    }
   ],
   "source": [
    "# Re-import necessary packages after kernel reset\n",
    "import pandas as pd\n",
    "from sklearn.model_selection import train_test_split\n",
    "from sklearn.ensemble import RandomForestRegressor\n",
    "from sklearn.preprocessing import OneHotEncoder\n",
    "from sklearn.compose import ColumnTransformer\n",
    "from sklearn.pipeline import Pipeline\n",
    "from sklearn.metrics import mean_squared_error, r2_score\n",
    "\n",
    "# Extract year and month\n",
    "df['year_month'] = pd.to_datetime(df['year_month'], format=\"%Y-%m\")\n",
    "df['year'] = df['year_month'].dt.year\n",
    "df['month'] = df['year_month'].dt.month\n",
    "\n",
    "# Features and target\n",
    "X = df[['region', 'gender', 'age_group', 'pm10', 'season', 'year', 'month']]\n",
    "y = df['visit_count']\n",
    "\n",
    "# Split into train (64%), validation (16%), test (20%)\n",
    "X_temp, X_test, y_temp, y_test = train_test_split(X, y, test_size=0.2, random_state=42)\n",
    "X_train, X_val, y_train, y_val = train_test_split(X_temp, y_temp, test_size=0.2, random_state=42)  # 0.2 * 0.8 = 0.16\n",
    "\n",
    "print(X_train.shape, y_train.shape)\n",
    "print(X_val.shape, y_val.shape)\n",
    "print(X_test.shape, y_test.shape)\n",
    "\n",
    "# Define categorical and numerical features\n",
    "categorical_features = ['region', 'gender', 'season', 'age_group']\n",
    "\n",
    "# Preprocessing pipeline\n",
    "preprocessor = ColumnTransformer(transformers=[\n",
    "    ('cat', OneHotEncoder(handle_unknown='ignore'), categorical_features)\n",
    "], remainder='passthrough')\n",
    "\n",
    "# Full pipeline with RandomForest\n",
    "model = Pipeline(steps=[\n",
    "    ('preprocessor', preprocessor),\n",
    "    ('regressor', RandomForestRegressor(random_state=42))\n",
    "])\n",
    "\n",
    "\n"
   ]
  },
  {
   "cell_type": "markdown",
   "id": "c68b52e2",
   "metadata": {},
   "source": [
    "## validation"
   ]
  },
  {
   "cell_type": "code",
   "execution_count": null,
   "id": "f440f27b",
   "metadata": {},
   "outputs": [],
   "source": [
    "# Train the model\n",
    "model.fit(X_train, y_train)\n",
    "\n",
    "# Predict and evaluate on validation and test sets\n",
    "y_val_pred = model.predict(X_val)\n",
    "\n",
    "\n",
    "val_rmse = mean_squared_error(y_val, y_val_pred, squared=False)\n",
    "val_r2 = r2_score(y_val, y_val_pred)\n",
    "\n",
    "print(f\"✅ RMSE: {val_rmse:.2f}\")\n",
    "print(f\"✅ R-squared: {val_r2:.2f}\")"
   ]
  },
  {
   "cell_type": "code",
   "execution_count": null,
   "id": "c1f1ccba",
   "metadata": {},
   "outputs": [],
   "source": [
    "import matplotlib.pyplot as plt\n",
    "import matplotlib\n",
    "matplotlib.rcParams['font.family'] = 'Malgun Gothic'\n",
    "matplotlib.rcParams['axes.unicode_minus'] = False\n",
    "\n",
    "# 중요도 시각화\n",
    "RandomForestRegressor.plot_importance(model, max_num_features=10, importance_type='gain')\n",
    "plt.title(\"Top 10 Feature Importance (by Gain)\")\n",
    "plt.show()"
   ]
  },
  {
   "cell_type": "markdown",
   "id": "6afdd389",
   "metadata": {},
   "source": [
    "## last step (after final modeling)"
   ]
  },
  {
   "cell_type": "code",
   "execution_count": null,
   "id": "e311ca20",
   "metadata": {},
   "outputs": [],
   "source": [
    "y_test_pred = model.predict(X_test)\n",
    "test_rmse = mean_squared_error(y_test, y_test_pred, squared=False)\n",
    "test_r2 = r2_score(y_test, y_test_pred)\n",
    "\n",
    "print(f\"✅ RMSE: {test_rmse:.2f}\")\n",
    "print(f\"✅ R-squared: {test_r2:.2f}\")"
   ]
  }
 ],
 "metadata": {
  "kernelspec": {
   "display_name": "base",
   "language": "python",
   "name": "python3"
  },
  "language_info": {
   "codemirror_mode": {
    "name": "ipython",
    "version": 3
   },
   "file_extension": ".py",
   "mimetype": "text/x-python",
   "name": "python",
   "nbconvert_exporter": "python",
   "pygments_lexer": "ipython3",
   "version": "3.12.7"
  }
 },
 "nbformat": 4,
 "nbformat_minor": 5
}
