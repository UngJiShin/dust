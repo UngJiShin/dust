{
 "cells": [
  {
   "cell_type": "code",
   "execution_count": null,
   "id": "e6da2650",
   "metadata": {},
   "outputs": [],
   "source": [
    "# 사용방법 - 복사하여 주석만 제거하여 사용\n",
    "import sys\n",
    "from pathlib import Path\n",
    "\n",
    "# 현재 노트북(.ipynb)이 src/ 안에 있으니 상위 폴더(프로젝트 루트)를 추가\n",
    "BASE_DIR    = Path().resolve().parent.parent    # Notebook이 src/ 안이라면 .parent\n",
    "config_path = BASE_DIR / 'config' / 'data_paths.yaml'\n",
    "sys.path.insert(0, str(BASE_DIR))\n",
    "\n",
    "\n",
    "# 이제 바로 import\n",
    "from scripts.data_loader import load_data"
   ]
  },
  {
   "cell_type": "code",
   "execution_count": null,
   "id": "a612426b",
   "metadata": {},
   "outputs": [],
   "source": [
    "df_merged = load_data('Merged_Data_with_Season', section='processed')\n",
    "df = df_merged.dropna(subset=['pm10'])"
   ]
  },
  {
   "cell_type": "code",
   "execution_count": null,
   "id": "40b8896f",
   "metadata": {},
   "outputs": [],
   "source": [
    "from sklearn.model_selection import train_test_split\n",
    "from sklearn.metrics import mean_squared_error, r2_score\n",
    "from sklearn.preprocessing import OneHotEncoder\n",
    "from sklearn.compose import ColumnTransformer\n",
    "from sklearn.pipeline import Pipeline\n",
    "from sklearn.impute import SimpleImputer\n",
    "import lightgbm as lgb\n",
    "\n",
    "\n",
    "# Convert year_month to datetime and extract features\n",
    "df['year_month'] = pd.to_datetime(df['year_month'], format=\"%Y-%m\")\n",
    "df['year'] = df['year_month'].dt.year\n",
    "df['month'] = df['year_month'].dt.month\n",
    "\n",
    "# Define features and target\n",
    "X = df[['region', 'gender', 'age_group', 'pm10', 'season', 'year', 'month']]\n",
    "y = df['visit_count']\n",
    "\n",
    "# Split into train (64%), validation (16%), test (20%)\n",
    "X_temp, X_test, y_temp, y_test = train_test_split(X, y, test_size=0.2, random_state=42)\n",
    "X_train, X_val, y_train, y_val = train_test_split(X_temp, y_temp, test_size=0.2, random_state=42)  # 0.2 * 0.8 = 0.16\n",
    "\n",
    "print(X_train.shape, y_train.shape)\n",
    "print(X_val.shape, y_val.shape)\n",
    "print(X_test.shape, y_test.shape)\n",
    "\n",
    "# Define preprocessing for categorical and numeric data\n",
    "categorical_features = ['region', 'gender', 'season']\n",
    "numeric_features = ['age_group', 'pm10', 'year', 'month']\n",
    "\n",
    "categorical_transformer = Pipeline(steps=[\n",
    "    ('imputer', SimpleImputer(strategy='most_frequent')),\n",
    "    ('onehot', OneHotEncoder(handle_unknown='ignore'))\n",
    "])\n",
    "\n",
    "numeric_transformer = Pipeline(steps=[\n",
    "    ('imputer', SimpleImputer(strategy='median'))\n",
    "])\n",
    "\n",
    "preprocessor = ColumnTransformer(\n",
    "    transformers=[\n",
    "        ('cat', categorical_transformer, categorical_features),\n",
    "        ('num', numeric_transformer, numeric_features)\n",
    "    ])\n",
    "\n",
    "\n",
    "# Create a pipeline with XGBoost Regressor\n",
    "model = Pipeline(steps=[\n",
    "    ('preprocessor', preprocessor),\n",
    "    ('regressor', lgb.LGBMRegressor(objective='reg:squarederror', random_state=42))"
   ]
  },
  {
   "cell_type": "code",
   "execution_count": null,
   "id": "0994c11d",
   "metadata": {},
   "outputs": [],
   "source": [
    "# Train the model\n",
    "model.fit(X_train, y_train)\n",
    "\n",
    "# Predict and evaluate on validation and test sets\n",
    "y_val_pred = model.predict(X_val)\n",
    "\n",
    "\n",
    "val_rmse = mean_squared_error(y_val, y_val_pred, squared=False)\n",
    "val_r2 = r2_score(y_val, y_val_pred)\n",
    "\n",
    "print(f\"✅ RMSE: {val_rmse:.2f}\")\n",
    "print(f\"✅ R-squared: {val_r2:.2f}\")"
   ]
  },
  {
   "cell_type": "code",
   "execution_count": null,
   "id": "db5878d3",
   "metadata": {},
   "outputs": [],
   "source": [
    "import matplotlib.pyplot as plt\n",
    "import matplotlib\n",
    "matplotlib.rcParams['font.family'] = 'Malgun Gothic'\n",
    "matplotlib.rcParams['axes.unicode_minus'] = False\n",
    "\n",
    "# 중요도 시각화\n",
    "lgb.plot_importance(model, max_num_features=10, importance_type='gain')\n",
    "plt.title(\"Top 10 Feature Importance (by Gain)\")\n",
    "plt.show()"
   ]
  },
  {
   "cell_type": "markdown",
   "id": "719c8404",
   "metadata": {},
   "source": [
    "## last step (after final modeling)"
   ]
  },
  {
   "cell_type": "code",
   "execution_count": null,
   "id": "43e27141",
   "metadata": {},
   "outputs": [],
   "source": [
    "y_test_pred = model.predict(X_test)\n",
    "test_rmse = mean_squared_error(y_test, y_test_pred, squared=False)\n",
    "test_r2 = r2_score(y_test, y_test_pred)\n",
    "\n",
    "print(f\"✅ RMSE: {test_rmse:.2f}\")\n",
    "print(f\"✅ R-squared: {test_r2:.2f}\")"
   ]
  }
 ],
 "metadata": {
  "language_info": {
   "name": "python"
  }
 },
 "nbformat": 4,
 "nbformat_minor": 5
}
