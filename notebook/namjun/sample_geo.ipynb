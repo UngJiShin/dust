{
 "cells": [
  {
   "cell_type": "code",
   "execution_count": 2,
   "id": "b656de76",
   "metadata": {},
   "outputs": [],
   "source": [
    "# --------------------------------------------------------\n",
    "# analysis/1_analysis.ipynb\n",
    "# (노트북 최상단 셀에 복붙하세요)\n",
    "# --------------------------------------------------------\n",
    "\n",
    "import sys, os\n",
    "from pathlib import Path\n",
    "\n",
    "# 현재 Jupyter Notebook이 실행된 디렉터리가 analysis/인 경우,\n",
    "# Path().resolve()는 analysis/폴더 경로를 가리킵니다.\n",
    "# 따라서 .parent.parent로 두 단계 올라가면 프로젝트 루트가 됩니다.\n",
    "BASE_DIR = Path().resolve().parent.parent\n",
    "\n",
    "# 혹은, 명시적으로 CWD(현재 작업 디렉터리)를 얻고 싶으면:\n",
    "# BASE_DIR = Path(os.getcwd()).parent.parent\n",
    "\n",
    "# 프로젝트 루트를 PYTHONPATH에 삽입\n",
    "if str(BASE_DIR) not in sys.path:\n",
    "    sys.path.insert(0, str(BASE_DIR))\n",
    "\n",
    "# 이제 아래 임포트가 정상 동작합니다\n",
    "from scripts.data_loader import load_data\n",
    "\n",
    "# 테스트: pm10 데이터 불러오기\n",
    "df_pm10 = load_data(\"pm10\")\n"
   ]
  },
  {
   "cell_type": "code",
   "execution_count": 5,
   "id": "fb021921",
   "metadata": {},
   "outputs": [
    {
     "data": {
      "text/plain": [
       "3"
      ]
     },
     "execution_count": 5,
     "metadata": {},
     "output_type": "execute_result"
    }
   ],
   "source": [
    "import json\n",
    "\n",
    "# 경로에 있는 municipalities GeoJSON 파일 로드\n",
    "with open(\"../../data/geo/skorea_municipalities_geo.json\", encoding=\"utf-8\") as f:\n",
    "    geojson = json.load(f)\n",
    "\n",
    "# 대한민국만 남기고 feature 수 축소\n",
    "simplified_features = []\n",
    "target_cities = [\"서울특별시\", \"부산광역시\", \"대구광역시\", \"광주광역시\", \"대전광역시\", \"울산광역시\"]\n",
    "\n",
    "for feature in geojson[\"features\"]:\n",
    "    name = feature[\"properties\"].get(\"name\") or feature[\"properties\"].get(\"NAME_2\")\n",
    "    if name and any(city[:2] in name for city in target_cities):\n",
    "        simplified_features.append(feature)\n",
    "\n",
    "# 새로운 GeoJSON 구조\n",
    "simplified_geojson = {\n",
    "    \"type\": \"FeatureCollection\",\n",
    "    \"features\": simplified_features\n",
    "}\n",
    "\n",
    "# 간소화 후 feature 수 확인\n",
    "len(simplified_geojson[\"features\"])"
   ]
  },
  {
   "cell_type": "code",
   "execution_count": null,
   "id": "025108b0",
   "metadata": {},
   "outputs": [
    {
     "data": {
      "text/plain": [
       "'../../data/geo/skorea_municipalities_simplified.json'"
      ]
     },
     "execution_count": 8,
     "metadata": {},
     "output_type": "execute_result"
    },
    {
     "ename": "",
     "evalue": "",
     "output_type": "error",
     "traceback": [
      "\u001b[1;31mThe Kernel crashed while executing code in the current cell or a previous cell. \n",
      "\u001b[1;31mPlease review the code in the cell(s) to identify a possible cause of the failure. \n",
      "\u001b[1;31mClick <a href='https://aka.ms/vscodeJupyterKernelCrash'>here</a> for more info. \n",
      "\u001b[1;31mView Jupyter <a href='command:jupyter.viewOutput'>log</a> for further details."
     ]
    }
   ],
   "source": [
    "import json\n",
    "\n",
    "# 원본 파일 로드\n",
    "with open(\"../../data/geo/skorea_municipalities_geo.json\", encoding=\"utf-8\") as f:\n",
    "    geojson = json.load(f)\n",
    "\n",
    "# 주요 도시만 필터링\n",
    "target_cities = [\"서울특별시\", \"부산광역시\", \"대구광역시\", \"광주광역시\", \"대전광역시\", \"울산광역시\"]\n",
    "simplified_features = []\n",
    "\n",
    "for feature in geojson[\"features\"]:\n",
    "    name = feature[\"properties\"].get(\"name\") or feature[\"properties\"].get(\"NAME_2\")\n",
    "    if name and any(city[:2] in name for city in target_cities):\n",
    "        simplified_features.append(feature)\n",
    "\n",
    "# 새 GeoJSON 구조 생성\n",
    "simplified_geojson = {\n",
    "    \"type\": \"FeatureCollection\",\n",
    "    \"features\": simplified_features\n",
    "}\n",
    "\n",
    "# 저장\n",
    "output_path = \"../../data/geo/skorea_municipalities_simplified.json\"\n",
    "with open(output_path, \"w\", encoding=\"utf-8\") as f:\n",
    "    json.dump(simplified_geojson, f, ensure_ascii=False)\n",
    "\n",
    "output_path"
   ]
  }
 ],
 "metadata": {
  "kernelspec": {
   "display_name": "my_ve",
   "language": "python",
   "name": "python3"
  },
  "language_info": {
   "codemirror_mode": {
    "name": "ipython",
    "version": 3
   },
   "file_extension": ".py",
   "mimetype": "text/x-python",
   "name": "python",
   "nbconvert_exporter": "python",
   "pygments_lexer": "ipython3",
   "version": "3.11.11"
  }
 },
 "nbformat": 4,
 "nbformat_minor": 5
}
