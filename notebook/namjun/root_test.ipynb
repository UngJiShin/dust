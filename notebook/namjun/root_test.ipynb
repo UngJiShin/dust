{
 "cells": [
  {
   "cell_type": "code",
   "execution_count": 1,
   "id": "01652e5a",
   "metadata": {},
   "outputs": [
    {
     "ename": "ModuleNotFoundError",
     "evalue": "No module named 'utils'",
     "output_type": "error",
     "traceback": [
      "\u001b[31m---------------------------------------------------------------------------\u001b[39m",
      "\u001b[31mModuleNotFoundError\u001b[39m                       Traceback (most recent call last)",
      "\u001b[36mCell\u001b[39m\u001b[36m \u001b[39m\u001b[32mIn[1]\u001b[39m\u001b[32m, line 2\u001b[39m\n\u001b[32m      1\u001b[39m \u001b[38;5;66;03m# Notebook 최상단에 한 줄\u001b[39;00m\n\u001b[32m----> \u001b[39m\u001b[32m2\u001b[39m \u001b[38;5;28;01mfrom\u001b[39;00m\u001b[38;5;250m \u001b[39m\u001b[34;01mutils\u001b[39;00m\u001b[34;01m.\u001b[39;00m\u001b[34;01mproject_setup\u001b[39;00m\u001b[38;5;250m \u001b[39m\u001b[38;5;28;01mimport\u001b[39;00m init\n\u001b[32m      3\u001b[39m BASE_DIR = init()  \u001b[38;5;66;03m# 프로젝트 루트 자동 등록\u001b[39;00m\n\u001b[32m      5\u001b[39m \u001b[38;5;66;03m# 이제 load_data, DustDB 등 자유롭게 import\u001b[39;00m\n",
      "\u001b[31mModuleNotFoundError\u001b[39m: No module named 'utils'"
     ]
    }
   ],
   "source": [
    "# Notebook 최상단에 한 줄\n",
    "from utils.project_setup import init\n",
    "BASE_DIR = init()  # 프로젝트 루트 자동 등록\n",
    "\n",
    "# 이제 load_data, DustDB 등 자유롭게 import\n",
    "from scripts.data_loader import load_data\n",
    "asthma_df = load_data(\"pm10_asthma_processed_v1\", section=\"processed\")\n",
    "\n",
    "from src.utils.db_util import DustDB\n",
    "db = DustDB()\n",
    "pm10_df = db.load_table(\"pm10_fact\", start=\"202301\", end=\"202312\")"
   ]
  },
  {
   "cell_type": "code",
   "execution_count": null,
   "id": "36235957",
   "metadata": {},
   "outputs": [
    {
     "ename": "ModuleNotFoundError",
     "evalue": "No module named 'scripts.data_loader'",
     "output_type": "error",
     "traceback": [
      "\u001b[31m---------------------------------------------------------------------------\u001b[39m",
      "\u001b[31mModuleNotFoundError\u001b[39m                       Traceback (most recent call last)",
      "\u001b[36mCell\u001b[39m\u001b[36m \u001b[39m\u001b[32mIn[1]\u001b[39m\u001b[32m, line 2\u001b[39m\n\u001b[32m      1\u001b[39m \u001b[38;5;66;03m# 이제 바로 import\u001b[39;00m\n\u001b[32m----> \u001b[39m\u001b[32m2\u001b[39m \u001b[38;5;28;01mfrom\u001b[39;00m\u001b[38;5;250m \u001b[39m\u001b[34;01mscripts\u001b[39;00m\u001b[34;01m.\u001b[39;00m\u001b[34;01mdata_loader\u001b[39;00m\u001b[38;5;250m \u001b[39m\u001b[38;5;28;01mimport\u001b[39;00m load_data\n\u001b[32m      3\u001b[39m df_pm10 = load_data(\u001b[33m'\u001b[39m\u001b[33mpm10\u001b[39m\u001b[33m'\u001b[39m)\n",
      "\u001b[31mModuleNotFoundError\u001b[39m: No module named 'scripts.data_loader'"
     ]
    }
   ],
   "source": [
    "# 3) DB 접근 예시 (db_util 사용)\n",
    "from src.utils.db_util import DustDB\n",
    "db = DustDB()\n",
    "pm10_all = db.load_pm10_all(start=\"202301\", end=\"202312\")\n",
    "df_fact = pm10_all[\"pm10_fact\"]\n",
    "print(df_fact.head())"
   ]
  }
 ],
 "metadata": {
  "kernelspec": {
   "display_name": "my_ve",
   "language": "python",
   "name": "python3"
  },
  "language_info": {
   "codemirror_mode": {
    "name": "ipython",
    "version": 3
   },
   "file_extension": ".py",
   "mimetype": "text/x-python",
   "name": "python",
   "nbconvert_exporter": "python",
   "pygments_lexer": "ipython3",
   "version": "3.11.11"
  }
 },
 "nbformat": 4,
 "nbformat_minor": 5
}
