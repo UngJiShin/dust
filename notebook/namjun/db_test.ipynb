{
 "cells": [
  {
   "cell_type": "code",
   "execution_count": 2,
   "id": "bc8b9b7a",
   "metadata": {},
   "outputs": [
    {
     "data": {
      "text/html": [
       "<div>\n",
       "<style scoped>\n",
       "    .dataframe tbody tr th:only-of-type {\n",
       "        vertical-align: middle;\n",
       "    }\n",
       "\n",
       "    .dataframe tbody tr th {\n",
       "        vertical-align: top;\n",
       "    }\n",
       "\n",
       "    .dataframe thead th {\n",
       "        text-align: right;\n",
       "    }\n",
       "</style>\n",
       "<table border=\"1\" class=\"dataframe\">\n",
       "  <thead>\n",
       "    <tr style=\"text-align: right;\">\n",
       "      <th></th>\n",
       "      <th>구분</th>\n",
       "      <th>서울특별시</th>\n",
       "      <th>부산광역시</th>\n",
       "      <th>대구광역시</th>\n",
       "      <th>인천광역시</th>\n",
       "      <th>광주광역시</th>\n",
       "      <th>대전광역시</th>\n",
       "      <th>울산광역시</th>\n",
       "      <th>세종특별자치시</th>\n",
       "      <th>수원</th>\n",
       "      <th>...</th>\n",
       "      <th>함양</th>\n",
       "      <th>남해</th>\n",
       "      <th>산청</th>\n",
       "      <th>의령</th>\n",
       "      <th>창녕</th>\n",
       "      <th>합천</th>\n",
       "      <th>도평균.7</th>\n",
       "      <th>제주</th>\n",
       "      <th>서귀포</th>\n",
       "      <th>도평균.8</th>\n",
       "    </tr>\n",
       "  </thead>\n",
       "  <tbody>\n",
       "    <tr>\n",
       "      <th>0</th>\n",
       "      <td>2006.01 월</td>\n",
       "      <td>65</td>\n",
       "      <td>52</td>\n",
       "      <td>60</td>\n",
       "      <td>73</td>\n",
       "      <td>72</td>\n",
       "      <td>56</td>\n",
       "      <td>37</td>\n",
       "      <td>NaN</td>\n",
       "      <td>74</td>\n",
       "      <td>...</td>\n",
       "      <td>NaN</td>\n",
       "      <td>NaN</td>\n",
       "      <td>NaN</td>\n",
       "      <td>NaN</td>\n",
       "      <td>NaN</td>\n",
       "      <td>NaN</td>\n",
       "      <td>NaN</td>\n",
       "      <td>44</td>\n",
       "      <td>49</td>\n",
       "      <td>NaN</td>\n",
       "    </tr>\n",
       "    <tr>\n",
       "      <th>1</th>\n",
       "      <td>2006.02 월</td>\n",
       "      <td>67</td>\n",
       "      <td>55</td>\n",
       "      <td>61</td>\n",
       "      <td>72</td>\n",
       "      <td>65</td>\n",
       "      <td>55</td>\n",
       "      <td>44</td>\n",
       "      <td>NaN</td>\n",
       "      <td>76</td>\n",
       "      <td>...</td>\n",
       "      <td>NaN</td>\n",
       "      <td>NaN</td>\n",
       "      <td>NaN</td>\n",
       "      <td>NaN</td>\n",
       "      <td>NaN</td>\n",
       "      <td>NaN</td>\n",
       "      <td>NaN</td>\n",
       "      <td>48</td>\n",
       "      <td>45</td>\n",
       "      <td>NaN</td>\n",
       "    </tr>\n",
       "    <tr>\n",
       "      <th>2</th>\n",
       "      <td>2006.03 월</td>\n",
       "      <td>81</td>\n",
       "      <td>82</td>\n",
       "      <td>82</td>\n",
       "      <td>83</td>\n",
       "      <td>83</td>\n",
       "      <td>69</td>\n",
       "      <td>81</td>\n",
       "      <td>NaN</td>\n",
       "      <td>95</td>\n",
       "      <td>...</td>\n",
       "      <td>NaN</td>\n",
       "      <td>NaN</td>\n",
       "      <td>NaN</td>\n",
       "      <td>NaN</td>\n",
       "      <td>NaN</td>\n",
       "      <td>NaN</td>\n",
       "      <td>NaN</td>\n",
       "      <td>66</td>\n",
       "      <td>56</td>\n",
       "      <td>NaN</td>\n",
       "    </tr>\n",
       "    <tr>\n",
       "      <th>3</th>\n",
       "      <td>2006.04 월</td>\n",
       "      <td>107</td>\n",
       "      <td>93</td>\n",
       "      <td>87</td>\n",
       "      <td>111</td>\n",
       "      <td>82</td>\n",
       "      <td>82</td>\n",
       "      <td>91</td>\n",
       "      <td>NaN</td>\n",
       "      <td>129</td>\n",
       "      <td>...</td>\n",
       "      <td>NaN</td>\n",
       "      <td>NaN</td>\n",
       "      <td>NaN</td>\n",
       "      <td>NaN</td>\n",
       "      <td>NaN</td>\n",
       "      <td>NaN</td>\n",
       "      <td>NaN</td>\n",
       "      <td>75</td>\n",
       "      <td>64</td>\n",
       "      <td>NaN</td>\n",
       "    </tr>\n",
       "    <tr>\n",
       "      <th>4</th>\n",
       "      <td>2006.05 월</td>\n",
       "      <td>63</td>\n",
       "      <td>61</td>\n",
       "      <td>52</td>\n",
       "      <td>69</td>\n",
       "      <td>64</td>\n",
       "      <td>51</td>\n",
       "      <td>55</td>\n",
       "      <td>NaN</td>\n",
       "      <td>71</td>\n",
       "      <td>...</td>\n",
       "      <td>NaN</td>\n",
       "      <td>NaN</td>\n",
       "      <td>NaN</td>\n",
       "      <td>NaN</td>\n",
       "      <td>NaN</td>\n",
       "      <td>NaN</td>\n",
       "      <td>NaN</td>\n",
       "      <td>49</td>\n",
       "      <td>50</td>\n",
       "      <td>NaN</td>\n",
       "    </tr>\n",
       "  </tbody>\n",
       "</table>\n",
       "<p>5 rows × 175 columns</p>\n",
       "</div>"
      ],
      "text/plain": [
       "          구분  서울특별시  부산광역시  대구광역시  인천광역시  광주광역시  대전광역시  울산광역시  세종특별자치시   수원  \\\n",
       "0  2006.01 월     65     52     60     73     72     56     37      NaN   74   \n",
       "1  2006.02 월     67     55     61     72     65     55     44      NaN   76   \n",
       "2  2006.03 월     81     82     82     83     83     69     81      NaN   95   \n",
       "3  2006.04 월    107     93     87    111     82     82     91      NaN  129   \n",
       "4  2006.05 월     63     61     52     69     64     51     55      NaN   71   \n",
       "\n",
       "   ...  함양  남해  산청  의령  창녕  합천  도평균.7  제주  서귀포  도평균.8  \n",
       "0  ... NaN NaN NaN NaN NaN NaN    NaN  44   49    NaN  \n",
       "1  ... NaN NaN NaN NaN NaN NaN    NaN  48   45    NaN  \n",
       "2  ... NaN NaN NaN NaN NaN NaN    NaN  66   56    NaN  \n",
       "3  ... NaN NaN NaN NaN NaN NaN    NaN  75   64    NaN  \n",
       "4  ... NaN NaN NaN NaN NaN NaN    NaN  49   50    NaN  \n",
       "\n",
       "[5 rows x 175 columns]"
      ]
     },
     "execution_count": 2,
     "metadata": {},
     "output_type": "execute_result"
    }
   ],
   "source": [
    "# --------------------------------------------------------\n",
    "# analysis/1_analysis.ipynb\n",
    "# (노트북 최상단 셀에 복붙하세요)\n",
    "# --------------------------------------------------------\n",
    "\n",
    "import sys, os\n",
    "from pathlib import Path\n",
    "\n",
    "# 현재 Jupyter Notebook이 실행된 디렉터리가 analysis/인 경우,\n",
    "# Path().resolve()는 analysis/폴더 경로를 가리킵니다.\n",
    "# 따라서 .parent.parent로 두 단계 올라가면 프로젝트 루트가 됩니다.\n",
    "BASE_DIR = Path().resolve().parent.parent\n",
    "\n",
    "# 혹은, 명시적으로 CWD(현재 작업 디렉터리)를 얻고 싶으면:\n",
    "# BASE_DIR = Path(os.getcwd()).parent.parent\n",
    "\n",
    "# 프로젝트 루트를 PYTHONPATH에 삽입\n",
    "if str(BASE_DIR) not in sys.path:\n",
    "    sys.path.insert(0, str(BASE_DIR))\n",
    "\n",
    "# 이제 아래 임포트가 정상 동작합니다\n",
    "from scripts.data_loader import load_data\n",
    "\n",
    "# 테스트: pm10 데이터 불러오기\n",
    "df_pm10 = load_data(\"pm10\")\n",
    "df_pm10.head()"
   ]
  },
  {
   "cell_type": "code",
   "execution_count": 8,
   "id": "a10c08d5",
   "metadata": {},
   "outputs": [
    {
     "ename": "ModuleNotFoundError",
     "evalue": "No module named 'scripts.data_loader'",
     "output_type": "error",
     "traceback": [
      "\u001b[31m---------------------------------------------------------------------------\u001b[39m",
      "\u001b[31mModuleNotFoundError\u001b[39m                       Traceback (most recent call last)",
      "\u001b[36mCell\u001b[39m\u001b[36m \u001b[39m\u001b[32mIn[8]\u001b[39m\u001b[32m, line 12\u001b[39m\n\u001b[32m      8\u001b[39m sys.path.insert(\u001b[32m0\u001b[39m, \u001b[38;5;28mstr\u001b[39m(BASE_DIR))\n\u001b[32m     11\u001b[39m \u001b[38;5;66;03m# 이제 바로 import\u001b[39;00m\n\u001b[32m---> \u001b[39m\u001b[32m12\u001b[39m \u001b[38;5;28;01mfrom\u001b[39;00m\u001b[38;5;250m \u001b[39m\u001b[34;01mscripts\u001b[39;00m\u001b[34;01m.\u001b[39;00m\u001b[34;01mdata_loader\u001b[39;00m\u001b[38;5;250m \u001b[39m\u001b[38;5;28;01mimport\u001b[39;00m load_data\n\u001b[32m     13\u001b[39m df_pm10 = load_data(\u001b[33m'\u001b[39m\u001b[33mpm10\u001b[39m\u001b[33m'\u001b[39m)\n",
      "\u001b[31mModuleNotFoundError\u001b[39m: No module named 'scripts.data_loader'"
     ]
    }
   ],
   "source": [
    "# 사용방법 - 복사하여 주석만 제거하여 사용\n",
    "import sys\n",
    "from pathlib import Path\n",
    "\n",
    "# 현재 노트북(.ipynb)이 src/ 안에 있으니 상위 폴더(프로젝트 루트)를 추가\n",
    "BASE_DIR    = Path().resolve().parent.parent    # Notebook이 src/ 안이라면 .parent\n",
    "config_path = BASE_DIR / 'config' / 'data_paths.yaml'\n",
    "sys.path.insert(0, str(BASE_DIR))\n",
    "\n",
    "\n",
    "# 이제 바로 import\n",
    "from scripts.data_loader import load_data\n",
    "df_pm10 = load_data('pm10')"
   ]
  },
  {
   "cell_type": "code",
   "execution_count": 1,
   "id": "1df01b7d",
   "metadata": {},
   "outputs": [
    {
     "ename": "ModuleNotFoundError",
     "evalue": "No module named 'scripts.data_loader'",
     "output_type": "error",
     "traceback": [
      "\u001b[31m---------------------------------------------------------------------------\u001b[39m",
      "\u001b[31mModuleNotFoundError\u001b[39m                       Traceback (most recent call last)",
      "\u001b[36mCell\u001b[39m\u001b[36m \u001b[39m\u001b[32mIn[1]\u001b[39m\u001b[32m, line 1\u001b[39m\n\u001b[32m----> \u001b[39m\u001b[32m1\u001b[39m \u001b[38;5;28;01mfrom\u001b[39;00m\u001b[38;5;250m \u001b[39m\u001b[34;01mscripts\u001b[39;00m\u001b[34;01m.\u001b[39;00m\u001b[34;01mdata_loader\u001b[39;00m\u001b[38;5;250m \u001b[39m\u001b[38;5;28;01mimport\u001b[39;00m load_data\n\u001b[32m      2\u001b[39m df = load_data(\u001b[33m'\u001b[39m\u001b[33mpm10\u001b[39m\u001b[33m'\u001b[39m, section=\u001b[33m'\u001b[39m\u001b[33mraw\u001b[39m\u001b[33m'\u001b[39m)\n",
      "\u001b[31mModuleNotFoundError\u001b[39m: No module named 'scripts.data_loader'"
     ]
    }
   ],
   "source": [
    "from scripts.data_loader import load_data\n",
    "df = load_data('pm10', section='raw')"
   ]
  },
  {
   "cell_type": "code",
   "execution_count": 19,
   "id": "6ee9bd1e",
   "metadata": {},
   "outputs": [
    {
     "name": "stdout",
     "output_type": "stream",
     "text": [
      "Defaulting to user installation because normal site-packages is not writeable\n",
      "Collecting python-dotenv\n",
      "  Downloading python_dotenv-1.1.0-py3-none-any.whl.metadata (24 kB)\n",
      "Downloading python_dotenv-1.1.0-py3-none-any.whl (20 kB)\n",
      "Installing collected packages: python-dotenv\n",
      "Successfully installed python-dotenv-1.1.0\n"
     ]
    }
   ],
   "source": [
    "!pip install python-dotenv"
   ]
  },
  {
   "cell_type": "code",
   "execution_count": 5,
   "id": "ed1b7358",
   "metadata": {},
   "outputs": [],
   "source": [
    "from src.utils.db_util import DustDB\n",
    "# [1] 클래스 불러오기\n"
   ]
  },
  {
   "cell_type": "code",
   "execution_count": 14,
   "id": "dc7a39cb",
   "metadata": {},
   "outputs": [],
   "source": [
    "import scripts.boot "
   ]
  },
  {
   "cell_type": "code",
   "execution_count": 20,
   "id": "fdef293c",
   "metadata": {},
   "outputs": [
    {
     "name": "stdout",
     "output_type": "stream",
     "text": [
      "프로젝트 루트: C:\\team_project\\dust\n",
      "sys.path 맨 앞에 추가됨: C:\\team_project\\dust\n"
     ]
    }
   ],
   "source": [
    "from src.utils.project_setup import init\n",
    "BASE_DIR = init()  "
   ]
  },
  {
   "cell_type": "code",
   "execution_count": 21,
   "id": "a130dffd",
   "metadata": {},
   "outputs": [
    {
     "name": "stdout",
     "output_type": "stream",
     "text": [
      "pm10_fact (2023년) 샘플:\n",
      "     id date_id region_name  pm10\n",
      "0   205  202301       서울특별시  48.0\n",
      "1   431  202301       부산광역시  37.0\n",
      "2   657  202301       대구광역시  42.0\n",
      "3   883  202301       인천광역시  50.0\n",
      "4  1109  202301       광주광역시  47.0\n",
      "\n",
      "pm10_asthma_fact (2023년) 샘플:\n",
      "       id      ym region gender age_group  visit_count\n",
      "0  349991  202301     가평     남자         1            9\n",
      "1  349992  202301     가평     남자         2           10\n",
      "2  349993  202301     가평     남자         3            3\n",
      "3  349994  202301     가평     남자         4           12\n",
      "4  349995  202301     가평     남자         5           33\n",
      "\n",
      "pm10_rhinitis_fact (2023년) 샘플:\n",
      "       id      ym region gender age_group  visit_count\n",
      "0  354953  202301     가평     남자         1           48\n",
      "1  354954  202301     가평     남자         2           71\n",
      "2  354955  202301     가평     남자         3           78\n",
      "3  354956  202301     가평     남자         4          256\n",
      "4  354957  202301     가평     남자         5          259\n"
     ]
    }
   ],
   "source": [
    "from src.utils.db_util import DustDB\n",
    "\n",
    "db = DustDB()\n",
    "\n",
    "pm10_data = db.load_table(\"pm10_fact\", start=\"202301\", end=\"202312\")\n",
    "print(\"pm10_fact (2023년) 샘플:\")\n",
    "print(pm10_data.head())\n",
    "\n",
    "# 필요하다면 pm10_asthma_fact, pm10_rhinitis_fact도 직접 호출\n",
    "pm10_asthma_df = db.load_table(\"pm10_asthma_fact\", start=\"202301\", end=\"202312\")\n",
    "print(\"\\npm10_asthma_fact (2023년) 샘플:\")\n",
    "print(pm10_asthma_df.head())\n",
    "\n",
    "pm10_rhinitis_df = db.load_table(\"pm10_rhinitis_fact\", start=\"202301\", end=\"202312\")\n",
    "print(\"\\npm10_rhinitis_fact (2023년) 샘플:\")\n",
    "print(pm10_rhinitis_df.head())"
   ]
  },
  {
   "cell_type": "code",
   "execution_count": 22,
   "id": "7deb1e86",
   "metadata": {},
   "outputs": [
    {
     "name": "stdout",
     "output_type": "stream",
     "text": [
      "서울 지역 pm25_rhinitis_fact (2022년 1월 이후) 샘플:\n",
      "Empty DataFrame\n",
      "Columns: [id, ym, region, gender, age_group, visit_count]\n",
      "Index: []\n"
     ]
    }
   ],
   "source": [
    "df_seoul = db.load_by_region(\n",
    "    table_name=\"pm25_rhinitis_fact\",\n",
    "    region_name=\"서울\",\n",
    "    start=\"202201\"\n",
    ")\n",
    "print(\"서울 지역 pm25_rhinitis_fact (2022년 1월 이후) 샘플:\")\n",
    "print(df_seoul.head())"
   ]
  },
  {
   "cell_type": "code",
   "execution_count": 23,
   "id": "369b55dc",
   "metadata": {},
   "outputs": [
    {
     "name": "stdout",
     "output_type": "stream",
     "text": [
      "pm25_rhinitis_fact에 존재하는 고유 지역들:\n",
      "['가평', '강릉', '강진', '거제', '거창', '경산', '경주', '계룡', '고령', '고성', '고양', '고창', '고흥', '곡성', '공주', '과천', '광명', '광양', '광주', '광주광역시', '괴산', '구례', '구리', '구미', '군산', '군포', '금산', '김제', '김천', '김포', '김해', '나주', '남양주', '남원', '남해', '논산', '단양', '담양', '당진', '대구광역시', '대전광역시', '동두천', '동해', '목포', '무안', '무주', '문경', '밀양', '보령', '보성', '보은', '봉화', '부산광역시', '부안', '부여', '부천', '사천', '산청', '삼척', '상주', '서귀포', '서산', '서울특별시', '서천', '성남', '성주', '세종특별자치시', '속초', '수원', '순창', '순천', '시흥', '신안', '아산', '안동', '안산', '안성', '안양', '양구', '양산', '양양', '양주', '양평', '여수', '여주', '연천', '영광', '영덕', '영동', '영암', '영양', '영월', '영주', '영천', '예산', '예천', '오산', '옥천', '완도', '완주', '용인', '울산광역시', '울진', '원주', '음성', '의령', '의성', '의왕', '의정부', '이천', '익산', '인제', '인천광역시', '임실', '장성', '장수', '장흥', '전주', '정선', '정읍', '제주', '제천', '증평', '진도', '진안', '진주', '진천', '창녕', '창원', '천안', '철원', '청도', '청송', '청양', '청주', '춘천', '충주', '칠곡', '태백', '태안', '통영', '파주', '평창', '평택', '포천', '포항', '하남', '하동', '함안', '함양', '함평', '합천', '해남', '홍성', '홍천', '화성', '화순', '화천', '횡성']\n"
     ]
    }
   ],
   "source": [
    "# [셀5] pm25_rhinitis_fact 테이블 내에 어떤 지역(region)들이 있는지 확인\n",
    "regions = db.get_regions(\"pm25_rhinitis_fact\")\n",
    "print(\"pm25_rhinitis_fact에 존재하는 고유 지역들:\")\n",
    "print(regions)"
   ]
  },
  {
   "cell_type": "code",
   "execution_count": 18,
   "id": "811a3722",
   "metadata": {},
   "outputs": [
    {
     "name": "stdout",
     "output_type": "stream",
     "text": [
      "서울특별시 pm25_rhinitis_fact (2022년 1월 이후) 샘플:\n",
      "       id      ym region gender age_group  visit_count\n",
      "0  367074  202201  서울특별시     남자         1        12567\n",
      "1  367075  202201  서울특별시     남자         2        12586\n",
      "2  367076  202201  서울특별시     남자         3         5257\n",
      "3  367077  202201  서울특별시     남자         4        30371\n",
      "4  367078  202201  서울특별시     남자         5        22273\n",
      "총 로우 개수: 288\n"
     ]
    }
   ],
   "source": [
    "df_seoul_special = db.load_by_region(\n",
    "    table_name=\"pm25_rhinitis_fact\",\n",
    "    region_name=\"서울특별시\",   # ← 정확히 테이블에 들어 있는 문자열\n",
    "    start=\"202201\"\n",
    ")\n",
    "print(\"서울특별시 pm25_rhinitis_fact (2022년 1월 이후) 샘플:\")\n",
    "print(df_seoul_special.head())\n",
    "print(\"총 로우 개수:\", len(df_seoul_special))"
   ]
  },
  {
   "cell_type": "code",
   "execution_count": 19,
   "id": "f8e654ed",
   "metadata": {},
   "outputs": [
    {
     "name": "stdout",
     "output_type": "stream",
     "text": [
      "pm25_rhinitis_fact에 저장된 지역 리스트:\n",
      "['가평', '강릉', '강진', '거제', '거창', '경산', '경주', '계룡', '고령', '고성', '고양', '고창', '고흥', '곡성', '공주', '과천', '광명', '광양', '광주', '광주광역시', '괴산', '구례', '구리', '구미', '군산', '군포', '금산', '김제', '김천', '김포', '김해', '나주', '남양주', '남원', '남해', '논산', '단양', '담양', '당진', '대구광역시', '대전광역시', '동두천', '동해', '목포', '무안', '무주', '문경', '밀양', '보령', '보성', '보은', '봉화', '부산광역시', '부안', '부여', '부천', '사천', '산청', '삼척', '상주', '서귀포', '서산', '서울특별시', '서천', '성남', '성주', '세종특별자치시', '속초', '수원', '순창', '순천', '시흥', '신안', '아산', '안동', '안산', '안성', '안양', '양구', '양산', '양양', '양주', '양평', '여수', '여주', '연천', '영광', '영덕', '영동', '영암', '영양', '영월', '영주', '영천', '예산', '예천', '오산', '옥천', '완도', '완주', '용인', '울산광역시', '울진', '원주', '음성', '의령', '의성', '의왕', '의정부', '이천', '익산', '인제', '인천광역시', '임실', '장성', '장수', '장흥', '전주', '정선', '정읍', '제주', '제천', '증평', '진도', '진안', '진주', '진천', '창녕', '창원', '천안', '철원', '청도', '청송', '청양', '청주', '춘천', '충주', '칠곡', '태백', '태안', '통영', '파주', '평창', '평택', '포천', '포항', '하남', '하동', '함안', '함양', '함평', '합천', '해남', '홍성', '홍천', '화성', '화순', '화천', '횡성']\n",
      "\n",
      "서울특별시 (날짜 필터 없이) 총 로우 개수: 2592\n",
      "    id      ym region gender age_group  visit_count\n",
      "0  745  200601  서울특별시     남자         1        23751\n",
      "1  746  200601  서울특별시     남자         2        27923\n",
      "2  747  200601  서울특별시     남자         3        15976\n",
      "3  748  200601  서울특별시     남자         4        55477\n",
      "4  749  200601  서울특별시     남자         5        37559\n",
      "\n",
      "서울특별시 (2022.01~2023.12) 총 로우 개수: 288\n",
      "       id      ym region gender age_group  visit_count\n",
      "0  367074  202201  서울특별시     남자         1        12567\n",
      "1  367075  202201  서울특별시     남자         2        12586\n",
      "2  367076  202201  서울특별시     남자         3         5257\n",
      "3  367077  202201  서울특별시     남자         4        30371\n",
      "4  367078  202201  서울특별시     남자         5        22273\n"
     ]
    }
   ],
   "source": [
    "# 1) 고유 region 값들 확인\n",
    "regions = db.get_regions(\"pm25_rhinitis_fact\")\n",
    "print(\"pm25_rhinitis_fact에 저장된 지역 리스트:\")\n",
    "print(regions)\n",
    "\n",
    "# 2) 고유 region 중 하나(예: \"서울특별시\")로 날짜 필터 없이 데이터 조회\n",
    "if \"서울특별시\" in regions:\n",
    "    df_seoul_nodate = db.load_by_region(\"pm25_rhinitis_fact\", \"서울특별시\")\n",
    "    print(\"\\n서울특별시 (날짜 필터 없이) 총 로우 개수:\", len(df_seoul_nodate))\n",
    "    print(df_seoul_nodate.head())\n",
    "else:\n",
    "    print(\"\\n?? 테이블에 '서울특별시'가 들어 있지 않습니다.\")\n",
    "\n",
    "# 3) 고유 region 중 하나(예: \"서울특별시\")로 날짜 필터 포함해서 조회\n",
    "if \"서울특별시\" in regions:\n",
    "    df_seoul_nodate = db.load_by_region(\n",
    "        \"pm25_rhinitis_fact\",\n",
    "        region_name=\"서울특별시\",\n",
    "        start=\"202201\",\n",
    "        end=\"202312\"\n",
    "    )\n",
    "    print(\"\\n서울특별시 (2022.01~2023.12) 총 로우 개수:\", len(df_seoul_nodate))\n",
    "    print(df_seoul_nodate.head())"
   ]
  },
  {
   "cell_type": "code",
   "execution_count": null,
   "id": "880628b0",
   "metadata": {},
   "outputs": [],
   "source": []
  }
 ],
 "metadata": {
  "kernelspec": {
   "display_name": "my_ve",
   "language": "python",
   "name": "python3"
  },
  "language_info": {
   "codemirror_mode": {
    "name": "ipython",
    "version": 3
   },
   "file_extension": ".py",
   "mimetype": "text/x-python",
   "name": "python",
   "nbconvert_exporter": "python",
   "pygments_lexer": "ipython3",
   "version": "3.11.11"
  }
 },
 "nbformat": 4,
 "nbformat_minor": 5
}
