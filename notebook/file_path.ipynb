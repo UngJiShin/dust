{
 "cells": [
  {
   "cell_type": "code",
   "execution_count": null,
   "id": "04d6dbba",
   "metadata": {},
   "outputs": [
    {
     "ename": "ModuleNotFoundError",
     "evalue": "No module named 'scripts.data_loader'",
     "output_type": "error",
     "traceback": [
      "\u001b[31m---------------------------------------------------------------------------\u001b[39m",
      "\u001b[31mModuleNotFoundError\u001b[39m                       Traceback (most recent call last)",
      "\u001b[36mCell\u001b[39m\u001b[36m \u001b[39m\u001b[32mIn[7]\u001b[39m\u001b[32m, line 23\u001b[39m\n\u001b[32m     20\u001b[39m     sys.path.insert(\u001b[32m0\u001b[39m, \u001b[38;5;28mstr\u001b[39m(BASE_DIR))\n\u001b[32m     22\u001b[39m \u001b[38;5;66;03m# 이제 아래 임포트가 정상 동작합니다\u001b[39;00m\n\u001b[32m---> \u001b[39m\u001b[32m23\u001b[39m \u001b[38;5;28;01mfrom\u001b[39;00m\u001b[38;5;250m \u001b[39m\u001b[34;01mscripts\u001b[39;00m\u001b[34;01m.\u001b[39;00m\u001b[34;01mdata_loader\u001b[39;00m\u001b[38;5;250m \u001b[39m\u001b[38;5;28;01mimport\u001b[39;00m load_data\n\u001b[32m     25\u001b[39m \u001b[38;5;66;03m# 테스트: pm10 데이터 불러오기\u001b[39;00m\n\u001b[32m     26\u001b[39m df_pm10 = load_data(\u001b[33m\"\u001b[39m\u001b[33mpm10\u001b[39m\u001b[33m\"\u001b[39m)\n",
      "\u001b[31mModuleNotFoundError\u001b[39m: No module named 'scripts.data_loader'"
     ]
    }
   ],
   "source": [
    "# --------------------------------------------------------\n",
    "# analysis/1_analysis.ipynb\n",
    "# (노트북 최상단 셀에 복붙하세요)\n",
    "# --------------------------------------------------------\n",
    "\n",
    "import sys, os\n",
    "from pathlib import Path\n",
    "\n",
    "# 현재 Jupyter Notebook이 실행된 디렉터리가 analysis/인 경우,\n",
    "# Path().resolve()는 analysis/폴더 경로를 가리킵니다.\n",
    "# 따라서 .parent.parent로 두 단계 올라가면 프로젝트 루트가 됩니다.\n",
    "\n",
    "BASE_DIR = Path().resolve().parent.parent\n",
    "\n",
    "# 혹은, 명시적으로 CWD(현재 작업 디렉터리)를 얻고 싶으면:\n",
    "# BASE_DIR = Path(os.getcwd()).parent.parent\n",
    "\n",
    "# 프로젝트 루트를 PYTHONPATH에 삽입\n",
    "if str(BASE_DIR) not in sys.path:\n",
    "    sys.path.insert(0, str(BASE_DIR))\n",
    "\n",
    "# 이제 아래 임포트가 정상 동작합니다\n",
    "from scripts.data_loader import load_data\n",
    "\n",
    "# 테스트: pm10 데이터 불러오기\n",
    "df_pm10 = load_data(\"pm10\")\n",
    "df_pm10.head()"
   ]
  }
 ],
 "metadata": {
  "kernelspec": {
   "display_name": "my_ve",
   "language": "python",
   "name": "python3"
  },
  "language_info": {
   "codemirror_mode": {
    "name": "ipython",
    "version": 3
   },
   "file_extension": ".py",
   "mimetype": "text/x-python",
   "name": "python",
   "nbconvert_exporter": "python",
   "pygments_lexer": "ipython3",
   "version": "3.11.11"
  }
 },
 "nbformat": 4,
 "nbformat_minor": 5
}
