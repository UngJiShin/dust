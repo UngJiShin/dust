{
 "cells": [
  {
   "cell_type": "code",
   "execution_count": null,
   "id": "505d4bd4",
   "metadata": {},
   "outputs": [],
   "source": [
    "# meteostat 설치 필요 \n",
    "# !pip install meteostat\n",
    "import os\n",
    "import pandas as pd\n",
    "import requests\n",
    "from io import StringIO\n",
    "from requests.utils import requote_uri\n",
    "from datetime import datetime\n",
    "from meteostat import Point, Daily \n",
    "\n",
    "# 서울시 자치구 중심좌표 CSV 로드 (한글경로 자동 인코딩)\n",
    "raw_url = (\n",
    "    \"https://raw.githubusercontent.com/cubensys/Korea_District/\"\n",
    "    \"master/3_서울시_자치구/\"\n",
    "    \"서울시_자치구_중심점_2017.csv\"\n",
    ")\n",
    "url = requote_uri(raw_url)\n",
    "resp = requests.get(url)\n",
    "resp.encoding = \"euc-kr\"\n",
    "df_loc = pd.read_csv(StringIO(resp.text), encoding=\"euc-kr\")\n",
    "\n",
    "# '시군구명', 'Y'(위도), 'X'(경도)에 맞춰 Point 객체로 매핑\n",
    "locations = {\n",
    "    row[\"시군구명\"]: Point(row[\"Y\"], row[\"X\"])\n",
    "    for _, row in df_loc.iterrows()\n",
    "}\n",
    "\n",
    "# 조회 기간 설정 \n",
    "start = datetime(2023, 1, 1)\n",
    "end   = datetime(2024, 12, 31)\n",
    "\n",
    "# 결과 저장 폴더 생성\n",
    "output_dir = \"./data/seoul_weather\"\n",
    "os.makedirs(output_dir, exist_ok=True)\n",
    "\n",
    "# 로케이션(Point)으로 직접 조회하여 CSV 저장\n",
    "for gu, point in locations.items():\n",
    "    # Point 객체를 직접 사용하여 일별 과거 데이터 조회\n",
    "    data = Daily(point, start, end).fetch()\n",
    "    \n",
    "    # 데이터 확인\n",
    "    print(f\"{gu}: {len(data)} rows retrieved\")\n",
    "    \n",
    "    # CSV로 저장\n",
    "    filepath = os.path.join(output_dir, f\"{gu}.csv\")\n",
    "    data.to_csv(filepath, encoding=\"utf-8-sig\")\n",
    "    print(f\"Saved → {filepath}\")"
   ]
  }
 ],
 "metadata": {
  "language_info": {
   "name": "python"
  }
 },
 "nbformat": 4,
 "nbformat_minor": 5
}
